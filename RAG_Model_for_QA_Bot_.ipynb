{
  "cells": [
    {
      "cell_type": "markdown",
      "metadata": {
        "id": "view-in-github",
        "colab_type": "text"
      },
      "source": [
        "<a href=\"https://colab.research.google.com/github/tlokeshkumar1/QA-Bot-with-RAG-Model/blob/main/RAG_Model_for_QA_Bot_.ipynb\" target=\"_parent\"><img src=\"https://colab.research.google.com/assets/colab-badge.svg\" alt=\"Open In Colab\"/></a>"
      ]
    },
    {
      "cell_type": "code",
      "execution_count": null,
      "metadata": {
        "colab": {
          "base_uri": "https://localhost:8080/"
        },
        "id": "ue-xF5uqWuPn",
        "outputId": "4ee6acfd-2082-4d16-8b2d-4b9351feca97"
      },
      "outputs": [
        {
          "output_type": "stream",
          "name": "stdout",
          "text": [
            "Requirement already satisfied: pinecone-client in /usr/local/lib/python3.10/dist-packages (5.0.1)\n",
            "Requirement already satisfied: certifi>=2019.11.17 in /usr/local/lib/python3.10/dist-packages (from pinecone-client) (2024.8.30)\n",
            "Requirement already satisfied: pinecone-plugin-inference<2.0.0,>=1.0.3 in /usr/local/lib/python3.10/dist-packages (from pinecone-client) (1.1.0)\n",
            "Requirement already satisfied: pinecone-plugin-interface<0.0.8,>=0.0.7 in /usr/local/lib/python3.10/dist-packages (from pinecone-client) (0.0.7)\n",
            "Requirement already satisfied: tqdm>=4.64.1 in /usr/local/lib/python3.10/dist-packages (from pinecone-client) (4.66.5)\n",
            "Requirement already satisfied: typing-extensions>=3.7.4 in /usr/local/lib/python3.10/dist-packages (from pinecone-client) (4.12.2)\n",
            "Requirement already satisfied: urllib3>=1.26.0 in /usr/local/lib/python3.10/dist-packages (from pinecone-client) (2.2.3)\n"
          ]
        }
      ],
      "source": [
        "pip install pinecone-client"
      ]
    },
    {
      "cell_type": "code",
      "source": [
        "import pinecone\n",
        "\n",
        "# Create a Pinecone instance\n",
        "pinecone = pinecone.Pinecone(api_key=\"5e668bf2-1adb-4ec2-bd9f-b72b275d0ce1\", environment=\"us-west1-gcp\") # Use Pinecone class to initialize\n",
        "\n",
        "# Create index (if not already created)\n",
        "index_name = \"heros\"\n",
        "\n",
        "# Connect to the index\n",
        "index = pinecone.Index(index_name)"
      ],
      "metadata": {
        "id": "R6Ye936nXJrm"
      },
      "execution_count": null,
      "outputs": []
    },
    {
      "cell_type": "code",
      "source": [
        "# Load the model\n",
        "model_name = \"sentence-transformers/all-MiniLM-L12-v2\"  # Choose a 384-dimensional model\n",
        "tokenizer = AutoTokenizer.from_pretrained(model_name)\n",
        "model = AutoModel.from_pretrained(model_name)\n",
        "\n",
        "def embed_text(text):\n",
        "    inputs = tokenizer(text, return_tensors='pt', padding=True, truncation=True, max_length=512)\n",
        "    with torch.no_grad():\n",
        "        embeddings = model(**inputs).last_hidden_state.mean(dim=1).numpy()\n",
        "    return embeddings"
      ],
      "metadata": {
        "id": "Y1CxWs5eX4J9"
      },
      "execution_count": null,
      "outputs": []
    },
    {
      "cell_type": "code",
      "source": [
        "# Example documents\n",
        "documents = [\n",
        "    \"Document 1 Mahesh Babu is a prominent Indian film actor and producer known for his work primarily in Telugu cinema. Born on August 9, 1975, in Chennai, Tamil Nadu, he hails from a family deeply rooted in the film industry, as he is the son of veteran actor Krishna and began acting in films at a young age.\",\n",
        "    \"Document 2 Nani, born as Naveen Babu Ghanta on February 24, 1984, in Hyderabad, India, is a well-known Indian actor and film producer primarily recognized for his work in Telugu cinema. He began his career as an assistant director and made his acting debut in the film Ashta Chamma in 2008, which earned him critical acclaim and established him as a talented actor.\",\n",
        "    \"Document 3 Adivi Sesh is an Indian film actor, writer, and director known for his work in Telugu cinema. Born on December 17, 1985, in Hyderabad, he made his acting debut in Sontham (2002) and gained recognition for his roles in critically acclaimed films like Kshanam (2016) and Goodachari (2018). Sesh is celebrated for his versatile performances and storytelling abilities, having also written and directed Kshanam. His dedication to his craft and choice of challenging roles have established him as a prominent figure in contemporary Indian cinema.\",\n",
        "]\n",
        "\n",
        "# Store embeddings in Pinecone\n",
        "for i, doc in enumerate(documents):\n",
        "    embedding = embed_text(doc)[0]  # Get the first element of the array\n",
        "    index.upsert([(f'doc-{i}', embedding.tolist())])  # Store embedding in Pinecone"
      ],
      "metadata": {
        "id": "gj5JogAbb98Z"
      },
      "execution_count": null,
      "outputs": []
    },
    {
      "cell_type": "code",
      "source": [
        "def query_bot(user_query):\n",
        "    query_embedding = embed_text(user_query)[0].tolist()\n",
        "    # Retrieve top 3 relevant documents using keyword arguments\n",
        "    results = index.query(vector=query_embedding, top_k=3)  # Use keyword arguments\n",
        "    return [result['id'] for result in results['matches']]\n",
        "\n",
        "def generate_response(doc_ids, user_query):\n",
        "    # Retrieve only the relevant document based on the user query\n",
        "    relevant_context = \"\"\n",
        "    query_name = user_query.split(\"about\")[-1].strip().lower()  # Extract and normalize the name from the query\n",
        "\n",
        "    for doc_id in doc_ids:\n",
        "        doc_index = int(doc_id.split('-')[1])\n",
        "        # Normalize the document text to lowercase for comparison\n",
        "        if query_name in documents[doc_index].lower():\n",
        "            relevant_context = documents[doc_index]\n",
        "            break  # Stop once the relevant document is found\n",
        "\n",
        "    if not relevant_context:  # Fallback if no relevant document was found\n",
        "        relevant_context = \"Sorry, I couldn't find relevant information.\"\n",
        "\n",
        "    return f\"Based on your query '{user_query}', here's the information: {relevant_context}\"\n",
        "\n",
        "def answer_question(user_query):\n",
        "    doc_ids = query_bot(user_query)  # Get document IDs\n",
        "    response = generate_response(doc_ids, user_query)  # Pass user_query here\n",
        "    return response"
      ],
      "metadata": {
        "id": "5fCZ_kNaX6il"
      },
      "execution_count": null,
      "outputs": []
    },
    {
      "cell_type": "code",
      "source": [
        "# Example user query\n",
        "user_query = \"give me about sesh\"\n",
        "answer = answer_question(user_query)\n",
        "print(answer)"
      ],
      "metadata": {
        "colab": {
          "base_uri": "https://localhost:8080/"
        },
        "id": "TRoBnRJeZPNj",
        "outputId": "fdddaf7a-4e73-41d2-bb1d-bf3630604fed"
      },
      "execution_count": null,
      "outputs": [
        {
          "output_type": "stream",
          "name": "stdout",
          "text": [
            "Based on your query 'give me about sesh', here's the information: Document 3 Adivi Sesh is an Indian film actor, writer, and director known for his work in Telugu cinema. Born on December 17, 1985, in Hyderabad, he made his acting debut in Sontham (2002) and gained recognition for his roles in critically acclaimed films like Kshanam (2016) and Goodachari (2018). Sesh is celebrated for his versatile performances and storytelling abilities, having also written and directed Kshanam. His dedication to his craft and choice of challenging roles have established him as a prominent figure in contemporary Indian cinema.\n"
          ]
        }
      ]
    },
    {
      "cell_type": "code",
      "source": [],
      "metadata": {
        "id": "S7CATLO-oU4g"
      },
      "execution_count": null,
      "outputs": []
    }
  ],
  "metadata": {
    "colab": {
      "provenance": [],
      "authorship_tag": "ABX9TyNg6nti2nXqJFwgyDV0ENlj",
      "include_colab_link": true
    },
    "kernelspec": {
      "display_name": "Python 3",
      "name": "python3"
    },
    "language_info": {
      "name": "python"
    }
  },
  "nbformat": 4,
  "nbformat_minor": 0
}