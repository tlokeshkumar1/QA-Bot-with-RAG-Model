{
  "nbformat": 4,
  "nbformat_minor": 0,
  "metadata": {
    "colab": {
      "provenance": [],
      "authorship_tag": "ABX9TyOZzOGVkzvcnu1yKwZkauY+",
      "include_colab_link": true
    },
    "kernelspec": {
      "name": "python3",
      "display_name": "Python 3"
    },
    "language_info": {
      "name": "python"
    }
  },
  "cells": [
    {
      "cell_type": "markdown",
      "metadata": {
        "id": "view-in-github",
        "colab_type": "text"
      },
      "source": [
        "<a href=\"https://colab.research.google.com/github/tlokeshkumar1/QA-Bot-with-RAG-Model/blob/main/Optimizing_the_Retrieval_Augmented_Generation_(RAG).ipynb\" target=\"_parent\"><img src=\"https://colab.research.google.com/assets/colab-badge.svg\" alt=\"Open In Colab\"/></a>"
      ]
    },
    {
      "cell_type": "code",
      "source": [
        "pip install pinecone-client"
      ],
      "metadata": {
        "colab": {
          "base_uri": "https://localhost:8080/"
        },
        "id": "eicNZkUIhgVV",
        "outputId": "85193d52-d07e-4561-d007-4a851ada07f1"
      },
      "execution_count": null,
      "outputs": [
        {
          "output_type": "stream",
          "name": "stdout",
          "text": [
            "Collecting pinecone-client\n",
            "  Downloading pinecone_client-5.0.1-py3-none-any.whl.metadata (19 kB)\n",
            "Requirement already satisfied: certifi>=2019.11.17 in /usr/local/lib/python3.10/dist-packages (from pinecone-client) (2024.8.30)\n",
            "Collecting pinecone-plugin-inference<2.0.0,>=1.0.3 (from pinecone-client)\n",
            "  Downloading pinecone_plugin_inference-1.1.0-py3-none-any.whl.metadata (2.2 kB)\n",
            "Collecting pinecone-plugin-interface<0.0.8,>=0.0.7 (from pinecone-client)\n",
            "  Downloading pinecone_plugin_interface-0.0.7-py3-none-any.whl.metadata (1.2 kB)\n",
            "Requirement already satisfied: tqdm>=4.64.1 in /usr/local/lib/python3.10/dist-packages (from pinecone-client) (4.66.5)\n",
            "Requirement already satisfied: typing-extensions>=3.7.4 in /usr/local/lib/python3.10/dist-packages (from pinecone-client) (4.12.2)\n",
            "Requirement already satisfied: urllib3>=1.26.0 in /usr/local/lib/python3.10/dist-packages (from pinecone-client) (2.2.3)\n",
            "Downloading pinecone_client-5.0.1-py3-none-any.whl (244 kB)\n",
            "\u001b[2K   \u001b[90m━━━━━━━━━━━━━━━━━━━━━━━━━━━━━━━━━━━━━━━━\u001b[0m \u001b[32m244.8/244.8 kB\u001b[0m \u001b[31m4.4 MB/s\u001b[0m eta \u001b[36m0:00:00\u001b[0m\n",
            "\u001b[?25hDownloading pinecone_plugin_inference-1.1.0-py3-none-any.whl (85 kB)\n",
            "\u001b[2K   \u001b[90m━━━━━━━━━━━━━━━━━━━━━━━━━━━━━━━━━━━━━━━━\u001b[0m \u001b[32m85.4/85.4 kB\u001b[0m \u001b[31m4.4 MB/s\u001b[0m eta \u001b[36m0:00:00\u001b[0m\n",
            "\u001b[?25hDownloading pinecone_plugin_interface-0.0.7-py3-none-any.whl (6.2 kB)\n",
            "Installing collected packages: pinecone-plugin-interface, pinecone-plugin-inference, pinecone-client\n",
            "Successfully installed pinecone-client-5.0.1 pinecone-plugin-inference-1.1.0 pinecone-plugin-interface-0.0.7\n"
          ]
        }
      ]
    },
    {
      "cell_type": "code",
      "source": [
        "#Using Chunked Document Embedding\n",
        "import pinecone\n",
        "import torch\n",
        "from transformers import AutoTokenizer, AutoModel\n",
        "\n",
        "# Create a Pinecone instance\n",
        "pinecone = pinecone.Pinecone(api_key=\"5e668bf2-1adb-4ec2-bd9f-b72b275d0ce1\", environment=\"us-west1-gcp\")\n",
        "\n",
        "# Create index (if not already created)\n",
        "index_name = \"heros\"\n",
        "\n",
        "# Connect to the index\n",
        "index = pinecone.Index(index_name)\n",
        "\n",
        "# Load the model\n",
        "model_name = \"sentence-transformers/all-MiniLM-L12-v2\"  # Choose a 384-dimensional model\n",
        "tokenizer = AutoTokenizer.from_pretrained(model_name)\n",
        "model = AutoModel.from_pretrained(model_name)\n",
        "\n",
        "def embed_text(text):\n",
        "    \"\"\"Embed the text using the pre-trained model.\"\"\"\n",
        "    inputs = tokenizer(text, return_tensors='pt', padding=True, truncation=True, max_length=512)\n",
        "    with torch.no_grad():  # Use context manager to prevent gradient calculations\n",
        "        embeddings = model(**inputs).last_hidden_state.mean(dim=1).numpy()\n",
        "    return embeddings\n",
        "\n",
        "def store_documents(documents):\n",
        "    \"\"\"Store chunked embeddings of documents in Pinecone.\"\"\"\n",
        "    for i, doc in enumerate(documents):\n",
        "        # Split each document into smaller chunks\n",
        "        chunks = [doc[j:j + 50] for j in range(0, len(doc), 50)]\n",
        "        for j, chunk in enumerate(chunks):\n",
        "            embedding = embed_text(chunk)[0]  # Get the first element of the array\n",
        "            # Store chunk in Pinecone with a unique ID\n",
        "            index.upsert([(f'doc-{i}-chunk-{j}', embedding.tolist())])\n",
        "\n",
        "# Example documents\n",
        "documents = [\n",
        "    \"Document 1 Mahesh Babu is a prominent Indian film actor and producer known for his work primarily in Telugu cinema. Born on August 9, 1975, in Chennai, Tamil Nadu, he hails from a family deeply rooted in the film industry, as he is the son of veteran actor Krishna and began acting in films at a young age.\",\n",
        "    \"Document 2 Nani, born as Naveen Babu Ghanta on February 24, 1984, in Hyderabad, India, is a well-known Indian actor and film producer primarily recognized for his work in Telugu cinema. He began his career as an assistant director and made his acting debut in the film Ashta Chamma in 2008, which earned him critical acclaim and established him as a talented actor.\",\n",
        "    \"Document 3 Adivi Sesh is an Indian film actor, writer, and director known for his work in Telugu cinema. Born on December 17, 1985, in Hyderabad, he made his acting debut in Sontham (2002) and gained recognition for his roles in critically acclaimed films like Kshanam (2016) and Goodachari (2018). Sesh is celebrated for his versatile performances and storytelling abilities, having also written and directed Kshanam. His dedication to his craft and choice of challenging roles have established him as a prominent figure in contemporary Indian cinema.\",\n",
        "]\n",
        "\n",
        "# Store document embeddings in Pinecone\n",
        "store_documents(documents)\n",
        "\n",
        "def query_bot(user_query):\n",
        "    \"\"\"Query the Pinecone index for relevant document chunks.\"\"\"\n",
        "    query_embedding = embed_text(user_query)[0].tolist()\n",
        "    # Retrieve top 3 relevant document chunks\n",
        "    results = index.query(vector=query_embedding, top_k=3)\n",
        "    print(\"Query Results:\", results['matches'])  # Debugging line\n",
        "    return [result['id'] for result in results['matches']]\n",
        "\n",
        "def generate_response(doc_ids, user_query):\n",
        "    \"\"\"Generate a response based on the retrieved document IDs.\"\"\"\n",
        "    relevant_context = []\n",
        "    for doc_id in doc_ids:\n",
        "        print(\"Doc ID:\", doc_id)  # Debugging line\n",
        "        parts = doc_id.split('-')\n",
        "\n",
        "        # Handle document and chunk IDs\n",
        "        try:\n",
        "            if len(parts) == 3:  # 'doc-1-chunk-0'\n",
        "                doc_index = int(parts[1])\n",
        "                relevant_context.append(documents[doc_index])  # Append full document context\n",
        "            elif len(parts) == 2:  # 'doc-1'\n",
        "                doc_index = int(parts[1])  # Only document index\n",
        "                relevant_context.append(documents[doc_index])  # Append full document context\n",
        "        except (ValueError, IndexError) as e:\n",
        "            print(f\"Error processing {doc_id}: {e}\")  # Handle any conversion errors\n",
        "\n",
        "    if not relevant_context:\n",
        "        return f\"Based on your query '{user_query}', sorry, I couldn't find relevant information.\"\n",
        "\n",
        "    return f\"Based on your query '{user_query}', here's the information: {' '.join(relevant_context)}\"\n",
        "\n",
        "def answer_question(user_query):\n",
        "    \"\"\"Answer the user's question by querying the bot and generating a response.\"\"\"\n",
        "    doc_ids = query_bot(user_query)  # Get document IDs\n",
        "    return generate_response(doc_ids, user_query)  # Generate response\n",
        "\n",
        "# Example user query\n",
        "user_query = \"give me about sesh\"\n",
        "answer = answer_question(user_query)\n",
        "print(answer)"
      ],
      "metadata": {
        "colab": {
          "base_uri": "https://localhost:8080/"
        },
        "id": "NDylwHYLlD1e",
        "outputId": "ba4fd9b7-0eac-4b36-ef94-8224ea7433f2"
      },
      "execution_count": null,
      "outputs": [
        {
          "output_type": "stream",
          "name": "stdout",
          "text": [
            "Query Results: [{'id': 'doc-2', 'score': 0.49959445, 'values': []}, {'id': 'doc-2-chunk-0', 'score': 0.454483956, 'values': []}, {'id': 'doc-2-chunk-6', 'score': 0.337245643, 'values': []}]\n",
            "Doc ID: doc-2\n",
            "Doc ID: doc-2-chunk-0\n",
            "Doc ID: doc-2-chunk-6\n",
            "Based on your query 'give me about sesh', here's the information: Document 3 Adivi Sesh is an Indian film actor, writer, and director known for his work in Telugu cinema. Born on December 17, 1985, in Hyderabad, he made his acting debut in Sontham (2002) and gained recognition for his roles in critically acclaimed films like Kshanam (2016) and Goodachari (2018). Sesh is celebrated for his versatile performances and storytelling abilities, having also written and directed Kshanam. His dedication to his craft and choice of challenging roles have established him as a prominent figure in contemporary Indian cinema.\n"
          ]
        }
      ]
    },
    {
      "cell_type": "code",
      "source": [
        "#Contextual Re-ranking\n",
        "import pinecone\n",
        "import torch\n",
        "from transformers import AutoTokenizer, AutoModel, pipeline\n",
        "\n",
        "# Create a Pinecone instance\n",
        "pinecone = pinecone.Pinecone(api_key=\"5e668bf2-1adb-4ec2-bd9f-b72b275d0ce1\", environment=\"us-west1-gcp\")\n",
        "\n",
        "# Create index (if not already created)\n",
        "index_name = \"heros\"\n",
        "\n",
        "# Connect to the index\n",
        "index = pinecone.Index(index_name)\n",
        "\n",
        "# Load the model for embeddings\n",
        "model_name = \"sentence-transformers/all-MiniLM-L12-v2\"  # Choose a 384-dimensional model\n",
        "tokenizer = AutoTokenizer.from_pretrained(model_name)\n",
        "model = AutoModel.from_pretrained(model_name)\n",
        "\n",
        "# Load a re-ranking model (you can choose a fine-tuned model)\n",
        "rerank_model = pipeline(\"text-classification\", model=\"cross-encoder/ms-marco-TinyBERT-L-2\")\n",
        "\n",
        "def embed_text(text):\n",
        "    inputs = tokenizer(text, return_tensors='pt', padding=True, truncation=True, max_length=512)\n",
        "    with torch.no_grad():\n",
        "        embeddings = model(**inputs).last_hidden_state.mean(dim=1).numpy()\n",
        "    return embeddings\n",
        "\n",
        "# Example documents\n",
        "documents = [\n",
        "    \"Document 1 Mahesh Babu is a prominent Indian film actor and producer known for his work primarily in Telugu cinema. Born on August 9, 1975, in Chennai, Tamil Nadu, he hails from a family deeply rooted in the film industry, as he is the son of veteran actor Krishna and began acting in films at a young age.\",\n",
        "    \"Document 2 Nani, born as Naveen Babu Ghanta on February 24, 1984, in Hyderabad, India, is a well-known Indian actor and film producer primarily recognized for his work in Telugu cinema. He began his career as an assistant director and made his acting debut in the film Ashta Chamma in 2008, which earned him critical acclaim and established him as a talented actor.\",\n",
        "    \"Document 3 Adivi Sesh is an Indian film actor, writer, and director known for his work in Telugu cinema. Born on December 17, 1985, in Hyderabad, he made his acting debut in Sontham (2002) and gained recognition for his roles in critically acclaimed films like Kshanam (2016) and Goodachari (2018). Sesh is celebrated for his versatile performances and storytelling abilities, having also written and directed Kshanam. His dedication to his craft and choice of challenging roles have established him as a prominent figure in contemporary Indian cinema.\",\n",
        "]\n",
        "\n",
        "# Store embeddings in Pinecone\n",
        "for i, doc in enumerate(documents):\n",
        "    embedding = embed_text(doc)[0]  # Get the first element of the array\n",
        "    index.upsert([(f'doc-{i}', embedding.tolist())])  # Store embedding in Pinecone\n",
        "\n",
        "def query_bot(user_query):\n",
        "    query_embedding = embed_text(user_query)[0].tolist()\n",
        "    results = index.query(vector=query_embedding, top_k=5)  # Get top 5 documents\n",
        "    return [result['id'] for result in results['matches']]\n",
        "\n",
        "def rerank_documents(doc_ids, user_query):\n",
        "    reranked_results = []\n",
        "    for doc_id in doc_ids:\n",
        "        doc_index = int(doc_id.split('-')[1])\n",
        "\n",
        "        # Prepare the input as a list of dictionaries for the rerank model\n",
        "        inputs = [{\"text\": user_query, \"text_pair\": documents[doc_index]}]\n",
        "        scores = rerank_model(inputs)  # Get scores for the batch\n",
        "\n",
        "        # Append the document ID with the score to reranked_results\n",
        "        reranked_results.append((doc_id, scores[0]['score']))  # Store the document ID and its score\n",
        "\n",
        "    # Sort by score\n",
        "    reranked_results.sort(key=lambda x: x[1], reverse=True)\n",
        "    return [doc_id for doc_id, score in reranked_results]\n",
        "\n",
        "def generate_response(doc_ids, user_query):\n",
        "    relevant_context = \"\"\n",
        "    query_name = user_query.split(\"about\")[-1].strip().lower()\n",
        "\n",
        "    for doc_id in doc_ids:\n",
        "        doc_index = int(doc_id.split('-')[1])\n",
        "        relevant_context = documents[doc_index]\n",
        "        break\n",
        "\n",
        "    if not relevant_context:\n",
        "        relevant_context = \"Sorry, I couldn't find relevant information.\"\n",
        "\n",
        "    return f\"Based on your query '{user_query}', here's the information: {relevant_context}\"\n",
        "\n",
        "def answer_question(user_query):\n",
        "    doc_ids = query_bot(user_query)  # Get document IDs\n",
        "    reranked_ids = rerank_documents(doc_ids, user_query)  # Rerank the documents\n",
        "    response = generate_response(reranked_ids, user_query)  # Pass user_query here\n",
        "    return response\n",
        "\n",
        "# Example user query\n",
        "user_query = \"give me about nani\"\n",
        "answer = answer_question(user_query)\n",
        "print(answer)"
      ],
      "metadata": {
        "colab": {
          "base_uri": "https://localhost:8080/"
        },
        "id": "bfyDlukLmmAi",
        "outputId": "4e6addac-8eb6-49ac-fb00-4621b0ce8332"
      },
      "execution_count": null,
      "outputs": [
        {
          "output_type": "stream",
          "name": "stdout",
          "text": [
            "Based on your query 'give me about nani', here's the information: Document 2 Nani, born as Naveen Babu Ghanta on February 24, 1984, in Hyderabad, India, is a well-known Indian actor and film producer primarily recognized for his work in Telugu cinema. He began his career as an assistant director and made his acting debut in the film Ashta Chamma in 2008, which earned him critical acclaim and established him as a talented actor.\n"
          ]
        }
      ]
    },
    {
      "cell_type": "code",
      "source": [],
      "metadata": {
        "id": "KWSI9bFcnIoQ"
      },
      "execution_count": null,
      "outputs": []
    }
  ]
}